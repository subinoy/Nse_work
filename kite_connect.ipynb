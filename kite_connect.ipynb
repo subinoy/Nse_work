{
 "cells": [
  {
   "cell_type": "code",
   "execution_count": 1,
   "metadata": {
    "collapsed": false
   },
   "outputs": [
    {
     "ename": "SyntaxError",
     "evalue": "invalid syntax (<ipython-input-1-6e36f17921e6>, line 3)",
     "output_type": "error",
     "traceback": [
      "\u001b[1;36m  File \u001b[1;32m\"<ipython-input-1-6e36f17921e6>\"\u001b[1;36m, line \u001b[1;32m3\u001b[0m\n\u001b[1;33m    kite = new KiteConnect(api_key=\"xxx\")\u001b[0m\n\u001b[1;37m                         ^\u001b[0m\n\u001b[1;31mSyntaxError\u001b[0m\u001b[1;31m:\u001b[0m invalid syntax\n"
     ]
    }
   ],
   "source": [
    "from kiteconnect import KiteConnect\n",
    "\n",
    "kite = new KiteConnect(api_key=\"xxx\")\n",
    "\n",
    "# Redirect the user to the login url obtained\n",
    "# from kite.login_url(), and receive the request_token\n",
    "# from the registered redirect url after the login flow.\n",
    "# Once you have the request_token, obtain the access_token\n",
    "# as follows.\n",
    "\n",
    "access_token = kite.request_access_token(\"request_token_here\", secret=\"your_secret\")\n",
    "kite.set_access_token(access_token)\n",
    "\n",
    "# Place an order\n",
    "try:\n",
    "    order_id = kite.order_place(tradingsymbol=\"INFY\",\n",
    "                    exchange=\"NSE\",\n",
    "                    transaction_type=\"BUY\",\n",
    "                    quantity=1,\n",
    "                    order_type=\"MARKET\"\n",
    "                    product=\"NRML\")\n",
    "\n",
    "    print(\"Order placed. ID is\", order_id)\n",
    "except Exception as e:\n",
    "    print(\"Order placement failed\", e.message)\n",
    "\n",
    "# Fetch all orders\n",
    "print(kite.orders())"
   ]
  },
  {
   "cell_type": "code",
   "execution_count": null,
   "metadata": {
    "collapsed": true
   },
   "outputs": [],
   "source": []
  }
 ],
 "metadata": {
  "kernelspec": {
   "display_name": "Python 3",
   "language": "python",
   "name": "python3"
  },
  "language_info": {
   "codemirror_mode": {
    "name": "ipython",
    "version": 3
   },
   "file_extension": ".py",
   "mimetype": "text/x-python",
   "name": "python",
   "nbconvert_exporter": "python",
   "pygments_lexer": "ipython3",
   "version": "3.5.1"
  }
 },
 "nbformat": 4,
 "nbformat_minor": 0
}
